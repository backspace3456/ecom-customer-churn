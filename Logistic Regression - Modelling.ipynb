{
 "cells": [
  {
   "cell_type": "markdown",
   "id": "7013ed0c",
   "metadata": {},
   "source": [
    "<h2> Import and Data Loading </h2>"
   ]
  },
  {
   "cell_type": "code",
   "execution_count": 3,
   "id": "ed68d94f",
   "metadata": {},
   "outputs": [
    {
     "name": "stdout",
     "output_type": "stream",
     "text": [
      "Data loaded. Starting data cleaning...\n",
      "Cleaned missing values in 'Tenure'.\n",
      "Cleaned missing values in 'WarehouseToHome'.\n",
      "Cleaned missing values in 'DaySinceLastOrder'.\n",
      "\n",
      "Data cleaning complete.\n"
     ]
    },
    {
     "data": {
      "application/vnd.microsoft.datawrangler.viewer.v0+json": {
       "columns": [
        {
         "name": "index",
         "rawType": "int64",
         "type": "integer"
        },
        {
         "name": "Tenure",
         "rawType": "float64",
         "type": "float"
        },
        {
         "name": "WarehouseToHome",
         "rawType": "float64",
         "type": "float"
        },
        {
         "name": "NumberOfDeviceRegistered",
         "rawType": "int64",
         "type": "integer"
        },
        {
         "name": "PreferedOrderCat",
         "rawType": "object",
         "type": "string"
        },
        {
         "name": "SatisfactionScore",
         "rawType": "int64",
         "type": "integer"
        },
        {
         "name": "MaritalStatus",
         "rawType": "object",
         "type": "string"
        },
        {
         "name": "NumberOfAddress",
         "rawType": "int64",
         "type": "integer"
        },
        {
         "name": "Complain",
         "rawType": "int64",
         "type": "integer"
        },
        {
         "name": "DaySinceLastOrder",
         "rawType": "float64",
         "type": "float"
        },
        {
         "name": "CashbackAmount",
         "rawType": "float64",
         "type": "float"
        },
        {
         "name": "Churn",
         "rawType": "int64",
         "type": "integer"
        }
       ],
       "ref": "83c6dbb4-e01d-4be5-be3d-b0147e2907fc",
       "rows": [
        [
         "0",
         "15.0",
         "29.0",
         "4",
         "Laptop & Accessory",
         "3",
         "Single",
         "2",
         "0",
         "7.0",
         "143.32",
         "0"
        ],
        [
         "1",
         "7.0",
         "25.0",
         "4",
         "Mobile",
         "1",
         "Married",
         "2",
         "0",
         "7.0",
         "129.29",
         "0"
        ],
        [
         "2",
         "27.0",
         "13.0",
         "3",
         "Laptop & Accessory",
         "1",
         "Married",
         "5",
         "0",
         "7.0",
         "168.54",
         "0"
        ],
        [
         "3",
         "20.0",
         "25.0",
         "4",
         "Fashion",
         "3",
         "Divorced",
         "7",
         "0",
         "4.531652360515022",
         "230.27",
         "0"
        ],
        [
         "4",
         "30.0",
         "15.0",
         "4",
         "Others",
         "4",
         "Single",
         "8",
         "0",
         "8.0",
         "322.17",
         "0"
        ]
       ],
       "shape": {
        "columns": 11,
        "rows": 5
       }
      },
      "text/html": [
       "<div>\n",
       "<style scoped>\n",
       "    .dataframe tbody tr th:only-of-type {\n",
       "        vertical-align: middle;\n",
       "    }\n",
       "\n",
       "    .dataframe tbody tr th {\n",
       "        vertical-align: top;\n",
       "    }\n",
       "\n",
       "    .dataframe thead th {\n",
       "        text-align: right;\n",
       "    }\n",
       "</style>\n",
       "<table border=\"1\" class=\"dataframe\">\n",
       "  <thead>\n",
       "    <tr style=\"text-align: right;\">\n",
       "      <th></th>\n",
       "      <th>Tenure</th>\n",
       "      <th>WarehouseToHome</th>\n",
       "      <th>NumberOfDeviceRegistered</th>\n",
       "      <th>PreferedOrderCat</th>\n",
       "      <th>SatisfactionScore</th>\n",
       "      <th>MaritalStatus</th>\n",
       "      <th>NumberOfAddress</th>\n",
       "      <th>Complain</th>\n",
       "      <th>DaySinceLastOrder</th>\n",
       "      <th>CashbackAmount</th>\n",
       "      <th>Churn</th>\n",
       "    </tr>\n",
       "  </thead>\n",
       "  <tbody>\n",
       "    <tr>\n",
       "      <th>0</th>\n",
       "      <td>15.0</td>\n",
       "      <td>29.0</td>\n",
       "      <td>4</td>\n",
       "      <td>Laptop &amp; Accessory</td>\n",
       "      <td>3</td>\n",
       "      <td>Single</td>\n",
       "      <td>2</td>\n",
       "      <td>0</td>\n",
       "      <td>7.000000</td>\n",
       "      <td>143.32</td>\n",
       "      <td>0</td>\n",
       "    </tr>\n",
       "    <tr>\n",
       "      <th>1</th>\n",
       "      <td>7.0</td>\n",
       "      <td>25.0</td>\n",
       "      <td>4</td>\n",
       "      <td>Mobile</td>\n",
       "      <td>1</td>\n",
       "      <td>Married</td>\n",
       "      <td>2</td>\n",
       "      <td>0</td>\n",
       "      <td>7.000000</td>\n",
       "      <td>129.29</td>\n",
       "      <td>0</td>\n",
       "    </tr>\n",
       "    <tr>\n",
       "      <th>2</th>\n",
       "      <td>27.0</td>\n",
       "      <td>13.0</td>\n",
       "      <td>3</td>\n",
       "      <td>Laptop &amp; Accessory</td>\n",
       "      <td>1</td>\n",
       "      <td>Married</td>\n",
       "      <td>5</td>\n",
       "      <td>0</td>\n",
       "      <td>7.000000</td>\n",
       "      <td>168.54</td>\n",
       "      <td>0</td>\n",
       "    </tr>\n",
       "    <tr>\n",
       "      <th>3</th>\n",
       "      <td>20.0</td>\n",
       "      <td>25.0</td>\n",
       "      <td>4</td>\n",
       "      <td>Fashion</td>\n",
       "      <td>3</td>\n",
       "      <td>Divorced</td>\n",
       "      <td>7</td>\n",
       "      <td>0</td>\n",
       "      <td>4.531652</td>\n",
       "      <td>230.27</td>\n",
       "      <td>0</td>\n",
       "    </tr>\n",
       "    <tr>\n",
       "      <th>4</th>\n",
       "      <td>30.0</td>\n",
       "      <td>15.0</td>\n",
       "      <td>4</td>\n",
       "      <td>Others</td>\n",
       "      <td>4</td>\n",
       "      <td>Single</td>\n",
       "      <td>8</td>\n",
       "      <td>0</td>\n",
       "      <td>8.000000</td>\n",
       "      <td>322.17</td>\n",
       "      <td>0</td>\n",
       "    </tr>\n",
       "  </tbody>\n",
       "</table>\n",
       "</div>"
      ],
      "text/plain": [
       "   Tenure  WarehouseToHome  NumberOfDeviceRegistered    PreferedOrderCat  \\\n",
       "0    15.0             29.0                         4  Laptop & Accessory   \n",
       "1     7.0             25.0                         4              Mobile   \n",
       "2    27.0             13.0                         3  Laptop & Accessory   \n",
       "3    20.0             25.0                         4             Fashion   \n",
       "4    30.0             15.0                         4              Others   \n",
       "\n",
       "   SatisfactionScore MaritalStatus  NumberOfAddress  Complain  \\\n",
       "0                  3        Single                2         0   \n",
       "1                  1       Married                2         0   \n",
       "2                  1       Married                5         0   \n",
       "3                  3      Divorced                7         0   \n",
       "4                  4        Single                8         0   \n",
       "\n",
       "   DaySinceLastOrder  CashbackAmount  Churn  \n",
       "0           7.000000          143.32      0  \n",
       "1           7.000000          129.29      0  \n",
       "2           7.000000          168.54      0  \n",
       "3           4.531652          230.27      0  \n",
       "4           8.000000          322.17      0  "
      ]
     },
     "execution_count": 3,
     "metadata": {},
     "output_type": "execute_result"
    }
   ],
   "source": [
    "import pandas as pd\n",
    "from sklearn.model_selection import train_test_split\n",
    "from sklearn.preprocessing import StandardScaler, OneHotEncoder\n",
    "from sklearn.compose import ColumnTransformer\n",
    "from sklearn.linear_model import LogisticRegression\n",
    "from sklearn.pipeline import Pipeline\n",
    "from sklearn.metrics import accuracy_score, confusion_matrix, classification_report\n",
    "import matplotlib.pyplot as plt\n",
    "import seaborn as sns\n",
    "\n",
    "\n",
    "df = pd.read_csv('data_ecommerce_customer_churn.csv')\n",
    "\n",
    "#Data Cleaning: Handling Missing Values (Corrected Method) \n",
    "print(\"Data loaded. Starting data cleaning...\")\n",
    "for col in ['Tenure', 'WarehouseToHome', 'DaySinceLastOrder']:\n",
    "    if df[col].isnull().any():\n",
    "        # Calculate the mean for the column\n",
    "        mean_value = df[col].mean()\n",
    "        \n",
    "        df[col] = df[col].fillna(mean_value)\n",
    "        \n",
    "        print(f\"Cleaned missing values in '{col}'.\")\n",
    "\n",
    "print(\"\\nData cleaning complete.\")\n",
    "df.head()"
   ]
  },
  {
   "cell_type": "markdown",
   "id": "dfed9cfe",
   "metadata": {},
   "source": [
    "<h2> Feature X & y </h2>"
   ]
  },
  {
   "cell_type": "code",
   "execution_count": 2,
   "id": "d61741d1",
   "metadata": {},
   "outputs": [
    {
     "name": "stdout",
     "output_type": "stream",
     "text": [
      "Features (X) shape: (3941, 10)\n",
      "Target (y) shape: (3941,)\n"
     ]
    }
   ],
   "source": [
    "# Define the features (independent variables) and the target (dependent variable)\n",
    "X = df.drop('Churn', axis=1)\n",
    "y = df['Churn']\n",
    "\n",
    "print(\"Features (X) shape:\", X.shape)\n",
    "print(\"Target (y) shape:\", y.shape)\n"
   ]
  },
  {
   "cell_type": "markdown",
   "id": "e74d62c1",
   "metadata": {},
   "source": [
    "<h2> Preprocessing </h2>"
   ]
  },
  {
   "cell_type": "code",
   "execution_count": 12,
   "id": "0d55fbea",
   "metadata": {},
   "outputs": [
    {
     "name": "stdout",
     "output_type": "stream",
     "text": [
      "Preprocessor configured successfully.\n"
     ]
    }
   ],
   "source": [
    "# Identify categorical and numerical feature names\n",
    "categorical_features = ['PreferedOrderCat', 'MaritalStatus']\n",
    "numerical_features = ['Tenure', 'WarehouseToHome', 'NumberOfDeviceRegistered',\n",
    "                      'SatisfactionScore', 'NumberOfAddress', 'Complain',\n",
    "                      'DaySinceLastOrder', 'CashbackAmount']\n",
    "\n",
    "\n",
    "preprocessor = ColumnTransformer(\n",
    "    transformers=[\n",
    "\n",
    "        ('num', StandardScaler(), numerical_features),\n",
    "\n",
    "        ('cat', OneHotEncoder(handle_unknown='ignore'), categorical_features)\n",
    "    ])\n",
    "\n",
    "print(\"Preprocessor configured successfully.\")\n"
   ]
  },
  {
   "cell_type": "markdown",
   "id": "cfd9feb5",
   "metadata": {},
   "source": [
    "<h2> Train & Test Split </h2>"
   ]
  },
  {
   "cell_type": "code",
   "execution_count": 11,
   "id": "bb5fb0d9",
   "metadata": {},
   "outputs": [
    {
     "name": "stdout",
     "output_type": "stream",
     "text": [
      "Data split into training and testing sets:\n",
      "X_train shape: (3152, 10)\n",
      "X_test shape: (789, 10)\n"
     ]
    }
   ],
   "source": [
    "\n",
    "X_train, X_test, y_train, y_test = train_test_split(X, y, test_size=0.2, random_state=42, stratify=y)\n",
    "\n",
    "print(\"Data split into training and testing sets:\")\n",
    "print(\"X_train shape:\", X_train.shape)\n",
    "print(\"X_test shape:\", X_test.shape)\n"
   ]
  },
  {
   "cell_type": "markdown",
   "id": "449226f7",
   "metadata": {},
   "source": [
    "<h2> Model Training </h2>"
   ]
  },
  {
   "cell_type": "code",
   "execution_count": 5,
   "id": "ba6cccd1",
   "metadata": {},
   "outputs": [
    {
     "name": "stdout",
     "output_type": "stream",
     "text": [
      "Model training complete.\n"
     ]
    }
   ],
   "source": [
    "# Create a Pipeline to chain the preprocessing steps and the model together\n",
    "# This is best practice as it prevents data leakage from the test set\n",
    "model_pipeline = Pipeline(steps=[\n",
    "    ('preprocessor', preprocessor),\n",
    "    ('classifier', LogisticRegression(random_state=42, class_weight='balanced')) # class_weight='balanced' helps with imbalanced data\n",
    "])\n",
    "\n",
    "# Train the entire pipeline on the training data\n",
    "model_pipeline.fit(X_train, y_train)\n",
    "\n",
    "print(\"Model training complete.\")\n"
   ]
  },
  {
   "cell_type": "markdown",
   "id": "657e370b",
   "metadata": {},
   "source": [
    "<h2> Model Prediction </h2>"
   ]
  },
  {
   "cell_type": "code",
   "execution_count": 6,
   "id": "14b4cfa4",
   "metadata": {},
   "outputs": [
    {
     "name": "stdout",
     "output_type": "stream",
     "text": [
      "Predictions generated for the test set.\n"
     ]
    }
   ],
   "source": [
    "# Use the trained pipeline to make predictions on the unseen test data\n",
    "y_pred = model_pipeline.predict(X_test)\n",
    "\n",
    "print(\"Predictions generated for the test set.\")\n"
   ]
  },
  {
   "cell_type": "markdown",
   "id": "2eb1bb88",
   "metadata": {},
   "source": [
    "<h2> Evaluation Confusion Matrix </h2>"
   ]
  },
  {
   "cell_type": "code",
   "execution_count": 9,
   "id": "263dedd9",
   "metadata": {},
   "outputs": [
    {
     "data": {
      "image/png": "[encoded data removed]",
      "text/plain": [
       "<Figure size 800x600 with 2 Axes>"
      ]
     },
     "metadata": {},
     "output_type": "display_data"
    }
   ],
   "source": [
    "# --- Evaluation Part 1: Confusion Matrix ---\n",
    "\n",
    "# Calculate the confusion matrix\n",
    "cm = confusion_matrix(y_test, y_pred)\n",
    "\n",
    "# Visualize the confusion matrix using a heatmap for better readability\n",
    "plt.figure(figsize=(8,6))\n",
    "sns.heatmap(cm, annot=True, fmt='d', cmap='Blues', \n",
    "            xticklabels=['Did Not Churn', 'Churned'], \n",
    "            yticklabels=['Did Not Churn', 'Churned'])\n",
    "plt.ylabel('Actual Value')\n",
    "plt.xlabel('Predicted Value')\n",
    "plt.title('Confusion Matrix', fontsize=16)\n",
    "plt.show()\n"
   ]
  },
  {
   "cell_type": "markdown",
   "id": "9b294cb4",
   "metadata": {},
   "source": [
    "<h2> Classification Report </h2>"
   ]
  },
  {
   "cell_type": "code",
   "execution_count": 10,
   "id": "6e2b532e",
   "metadata": {},
   "outputs": [
    {
     "name": "stdout",
     "output_type": "stream",
     "text": [
      "--- Classification Report ---\n",
      "               precision    recall  f1-score   support\n",
      "\n",
      "Did Not Churn       0.95      0.80      0.87       654\n",
      "      Churned       0.45      0.79      0.57       135\n",
      "\n",
      "     accuracy                           0.80       789\n",
      "    macro avg       0.70      0.80      0.72       789\n",
      " weighted avg       0.86      0.80      0.82       789\n",
      "\n"
     ]
    }
   ],
   "source": [
    "# --- Evaluation Part 2: Classification Report ---\n",
    "\n",
    "# Generate the classification report\n",
    "report = classification_report(y_test, y_pred, target_names=['Did Not Churn', 'Churned'])\n",
    "print(\"--- Classification Report ---\")\n",
    "print(report)\n"
   ]
  }
 ],
 "metadata": {
  "kernelspec": {
   "display_name": "Python 3",
   "language": "python",
   "name": "python3"
  },
  "language_info": {
   "codemirror_mode": {
    "name": "ipython",
    "version": 3
   },
   "file_extension": ".py",
   "mimetype": "text/x-python",
   "name": "python",
   "nbconvert_exporter": "python",
   "pygments_lexer": "ipython3",
   "version": "3.13.1"
  }
 },
 "nbformat": 4,
 "nbformat_minor": 5
}
